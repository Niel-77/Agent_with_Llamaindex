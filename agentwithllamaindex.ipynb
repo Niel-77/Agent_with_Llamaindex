{
 "cells": [
  {
   "cell_type": "markdown",
   "metadata": {},
   "source": [
    "We will import the llamaindex components we need"
   ]
  },
  {
   "cell_type": "code",
   "execution_count": 1,
   "metadata": {},
   "outputs": [],
   "source": [
    "from llama_index.core.agent import ReActAgent\n",
    "from llama_index.llms.ollama import Ollama\n",
    "from llama_index.core.tools import FunctionTool\n",
    "from llama_index.core import Settings\n",
    "from llama_index.embeddings.ollama import OllamaEmbedding\n",
    "\n"
   ]
  },
  {
   "cell_type": "markdown",
   "metadata": {},
   "source": [
    "We will set the llm and embedding model globally."
   ]
  },
  {
   "cell_type": "code",
   "execution_count": 2,
   "metadata": {},
   "outputs": [],
   "source": [
    "Settings.llm=Ollama(model=\"phi3:mini\",temperature=0.8,request_timeout=600) #to prevent timeout\n",
    "Settings.embed_model= OllamaEmbedding(model_name=\"nomic-embed-text\")"
   ]
  },
  {
   "cell_type": "markdown",
   "metadata": {},
   "source": [
    "Now we will create basic tools for function calling.  The FunctionTool is used for this as given below. The docstring is necessary for the LLM to understand what the tool does."
   ]
  },
  {
   "cell_type": "code",
   "execution_count": 6,
   "metadata": {},
   "outputs": [],
   "source": [
    "def multiply(a: float, b: float) -> float:\n",
    "    \"\"\"Multiply two numbers and returns the product\"\"\"\n",
    "    return a * b\n",
    "\n",
    "\n",
    "multiply_tool = FunctionTool.from_defaults(fn=multiply)\n",
    "\n",
    "\n",
    "def add(a: float, b: float) -> float:\n",
    "    \"\"\"Add two numbers and returns the sum\"\"\"\n",
    "    return a + b\n",
    "\n",
    "def subtract(a: float, b: float) -> float:\n",
    "    \"\"\"Subtract two numbers and returns the difference\"\"\"\n",
    "    return a-b\n",
    "\n",
    "sub_tool = FunctionTool.from_defaults(fn=subtract)\n",
    "add_tool = FunctionTool.from_defaults(fn=add)"
   ]
  },
  {
   "cell_type": "markdown",
   "metadata": {},
   "source": [
    "Now we intialize the agent using ReActAgent by giving it the functions we created as an array. We can see what is going on by setting verbose=True."
   ]
  },
  {
   "cell_type": "code",
   "execution_count": 7,
   "metadata": {},
   "outputs": [],
   "source": [
    "agent = ReActAgent.from_tools([multiply_tool, add_tool,sub_tool], verbose=True)"
   ]
  },
  {
   "cell_type": "markdown",
   "metadata": {},
   "source": [
    "Now let's ask the question"
   ]
  },
  {
   "cell_type": "code",
   "execution_count": 8,
   "metadata": {},
   "outputs": [
    {
     "name": "stdout",
     "output_type": "stream",
     "text": [
      "\u001b[1;3;38;5;200mThought: The current language of the user is English. I can answer this question without using a tool, but since you requested using a tool for calculations, I will use the 'multiply' and 'add' tools accordingly.\n",
      "Action: multiply\n",
      "Action Input: {'a': 20, 'b': 2}\n",
      "\u001b[0m\u001b[1;3;34mObservation: 40\n",
      "\u001b[0m\u001b[1;3;38;5;200mThought: Now that I have calculated the product of 20*2 using the 'multiply' tool, I can proceed to use the 'add' tool for calculating (40 + 4) and then use the 'subtract' tool for subtracting 50 from this sum.\n",
      "Action: add\n",
      "Action Input: {'a': 40, 'b': 4}\n",
      "\u001b[0m\u001b[1;3;34mObservation: 44\n",
      "\u001b[0m\u001b[1;3;38;5;200mThought: I now have calculated (20*2 + 4) as 44 using the 'add' tool. The final step is to subtract 50 from this sum.\n",
      "Action: subtract\n",
      "Action Input: {'a': 44, 'b': 50}\n",
      "\u001b[0m\u001b[1;3;34mObservation: -6\n",
      "\u001b[0m\u001b[1;3;38;5;200mThought: I have completed all calculations with the provided tools and can now provide the answer in English as requested by the user.\n",
      "Answer: The result of (20*2 + 4) - 50 is -6.\n",
      "\u001b[0m"
     ]
    }
   ],
   "source": [
    "response = agent.chat(\"What is (20*2)+4-50? Use a tool to calculate every step.\")"
   ]
  },
  {
   "cell_type": "markdown",
   "metadata": {},
   "source": [
    "Now we can add RAG with our agent. We should import the required dependencie first."
   ]
  },
  {
   "cell_type": "code",
   "execution_count": null,
   "metadata": {},
   "outputs": [],
   "source": []
  }
 ],
 "metadata": {
  "kernelspec": {
   "display_name": "llamaphi3",
   "language": "python",
   "name": "python3"
  },
  "language_info": {
   "codemirror_mode": {
    "name": "ipython",
    "version": 3
   },
   "file_extension": ".py",
   "mimetype": "text/x-python",
   "name": "python",
   "nbconvert_exporter": "python",
   "pygments_lexer": "ipython3",
   "version": "3.11.7"
  }
 },
 "nbformat": 4,
 "nbformat_minor": 2
}
